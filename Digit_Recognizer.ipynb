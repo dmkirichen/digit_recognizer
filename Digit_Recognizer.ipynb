{
 "cells": [
  {
   "cell_type": "markdown",
   "metadata": {},
   "source": [
    "#  Digit Recognizer on MNIST dataset."
   ]
  },
  {
   "cell_type": "code",
   "execution_count": 1,
   "metadata": {},
   "outputs": [],
   "source": [
    "import numpy as np\n",
    "import tensorflow as tf\n",
    "import csv\n",
    "import matplotlib\n",
    "import matplotlib.pyplot as plt\n",
    "import pickle"
   ]
  },
  {
   "cell_type": "code",
   "execution_count": 2,
   "metadata": {},
   "outputs": [],
   "source": [
    "# Saving and loading pretrained parameters.\n",
    "\n",
    "def save_obj(obj, name ):\n",
    "    with open(name + '.pkl', 'wb') as f:\n",
    "        pickle.dump(obj, f, pickle.HIGHEST_PROTOCOL)\n",
    "\n",
    "def load_obj(name ):\n",
    "    with open(name + '.pkl', 'rb') as f:\n",
    "        return pickle.load(f)"
   ]
  },
  {
   "cell_type": "markdown",
   "metadata": {},
   "source": [
    "### Loading data from Kaggle MNIST dataset."
   ]
  },
  {
   "cell_type": "code",
   "execution_count": 4,
   "metadata": {},
   "outputs": [],
   "source": [
    "with open(\"train.csv\", \"r\") as f:\n",
    "    train_orig = list(csv.reader(f, delimiter=\",\"))\n",
    "\n",
    "with open(\"test.csv\", \"r\") as f:\n",
    "    test_orig = list(csv.reader(f, delimiter=\",\"))\n",
    "    \n",
    "train_orig = np.array(train_orig[1:], dtype=np.float32)\n",
    "test_x_orig = np.array(test_orig[1:], dtype=np.float32)"
   ]
  },
  {
   "cell_type": "code",
   "execution_count": 5,
   "metadata": {},
   "outputs": [],
   "source": [
    "train_x_orig = train_orig[:, 1:]\n",
    "train_y_orig = train_orig[:, 0]\n",
    "\n",
    "# Normalizing data.\n",
    "train_x = train_x_orig / 255.0\n",
    "test_x = test_x_orig / 255.0"
   ]
  },
  {
   "cell_type": "code",
   "execution_count": 6,
   "metadata": {},
   "outputs": [
    {
     "name": "stdout",
     "output_type": "stream",
     "text": [
      "Training Y shape = (42000,)\n",
      "Training X shape = (42000, 784)\n",
      "Testing  X shape = (28000, 784)\n"
     ]
    }
   ],
   "source": [
    "print(f\"Training Y shape = {train_y_orig.shape}\")\n",
    "print(f\"Training X shape = {train_x.shape}\")\n",
    "print(f\"Testing  X shape = {test_x.shape}\")"
   ]
  },
  {
   "cell_type": "code",
   "execution_count": 7,
   "metadata": {},
   "outputs": [],
   "source": [
    "# Making label matrix one-hot.\n",
    "\n",
    "train_y_1h = tf.one_hot(train_y_orig, tf.constant(10, name=\"C\"), axis=1)\n",
    "with tf.Session() as sess:\n",
    "    train_y = sess.run(train_y_1h)"
   ]
  },
  {
   "cell_type": "code",
   "execution_count": 8,
   "metadata": {},
   "outputs": [
    {
     "name": "stdout",
     "output_type": "stream",
     "text": [
      "1.0 = [0. 1. 0. 0. 0. 0. 0. 0. 0. 0.]\n",
      "2.0 = [0. 0. 1. 0. 0. 0. 0. 0. 0. 0.]\n",
      "9.0 = [0. 0. 0. 0. 0. 0. 0. 0. 0. 1.]\n"
     ]
    }
   ],
   "source": [
    "print(f\"{train_y_orig[0]} = {train_y[0]}\")\n",
    "print(f\"{train_y_orig[567]} = {train_y[567]}\")\n",
    "print(f\"{train_y_orig[41999]} = {train_y[41999]}\")"
   ]
  },
  {
   "cell_type": "markdown",
   "metadata": {},
   "source": [
    "#### Here you can see some of the examples of the training set."
   ]
  },
  {
   "cell_type": "code",
   "execution_count": 9,
   "metadata": {},
   "outputs": [
    {
     "data": {
      "text/plain": [
       "<matplotlib.image.AxesImage at 0x20283d20908>"
      ]
     },
     "execution_count": 9,
     "metadata": {},
     "output_type": "execute_result"
    },
    {
     "data": {
      "image/png": "[encoded data removed]",
      "text/plain": [
       "<Figure size 432x288 with 1 Axes>"
      ]
     },
     "metadata": {
      "needs_background": "light"
     },
     "output_type": "display_data"
    }
   ],
   "source": [
    "index = 11  # change this value to see different result\n",
    "img_arr = train_x_orig[index].reshape(28, 28)\n",
    "plt.imshow(img_arr, cmap=plt.cm.gray, interpolation=\"bilinear\")"
   ]
  },
  {
   "cell_type": "markdown",
   "metadata": {},
   "source": [
    "### Basic decision's about our Neural Network. "
   ]
  },
  {
   "cell_type": "code",
   "execution_count": 10,
   "metadata": {},
   "outputs": [
    {
     "name": "stdout",
     "output_type": "stream",
     "text": [
      "Neural Network will have 5 layers, which will have [784, 28, 21, 14, 10] unit's in each of them.\n"
     ]
    }
   ],
   "source": [
    "(m, n_x) = train_x.shape\n",
    "num_labels = 10\n",
    "layers_dims = [n_x, 28, 21, 14, num_labels]\n",
    "print(f\"Neural Network will have {len(layers_dims)} layers, which will have {layers_dims} unit's in each of them.\")"
   ]
  },
  {
   "cell_type": "markdown",
   "metadata": {},
   "source": [
    "We will use He initialization, which works well with ReLU activation unit's."
   ]
  },
  {
   "cell_type": "code",
   "execution_count": 11,
   "metadata": {},
   "outputs": [],
   "source": [
    "def initialize_parameters():\n",
    "    \"\"\"Returns W1, b1, ... parameters of the NN.\"\"\"\n",
    "    \n",
    "    parameters = dict()\n",
    "    parameters[\"W1\"] = tf.get_variable('W1', shape=[layers_dims[1], layers_dims[0]], initializer=tf.contrib.layers.variance_scaling_initializer())\n",
    "    parameters[\"b1\"] = tf.get_variable('b1', shape=[layers_dims[1], 1], initializer=tf.zeros_initializer())\n",
    "    parameters[\"W2\"] = tf.get_variable('W2', shape=[layers_dims[2], layers_dims[1]], initializer=tf.contrib.layers.variance_scaling_initializer())\n",
    "    parameters[\"b2\"] = tf.get_variable('b2', shape=[layers_dims[2], 1], initializer=tf.zeros_initializer())\n",
    "    parameters[\"W3\"] = tf.get_variable('W3', shape=[layers_dims[3], layers_dims[2]], initializer=tf.contrib.layers.variance_scaling_initializer())\n",
    "    parameters[\"b3\"] = tf.get_variable('b3', shape=[layers_dims[3], 1], initializer=tf.zeros_initializer())\n",
    "    parameters[\"W4\"] = tf.get_variable('W4', shape=[layers_dims[4], layers_dims[3]], initializer=tf.contrib.layers.variance_scaling_initializer())\n",
    "    parameters[\"b4\"] = tf.get_variable('b4', shape=[layers_dims[4], 1], initializer=tf.zeros_initializer())\n",
    "    \n",
    "    return parameters"
   ]
  },
  {
   "cell_type": "code",
   "execution_count": 12,
   "metadata": {},
   "outputs": [
    {
     "name": "stdout",
     "output_type": "stream",
     "text": [
      "\n",
      "WARNING: The TensorFlow contrib module will not be included in TensorFlow 2.0.\n",
      "For more information, please see:\n",
      "  * https://github.com/tensorflow/community/blob/master/rfcs/20180907-contrib-sunset.md\n",
      "  * https://github.com/tensorflow/addons\n",
      "If you depend on functionality not listed there, please file an issue.\n",
      "\n",
      "WARNING:tensorflow:From C:\\Users\\OwO\\Anaconda3\\lib\\site-packages\\tensorflow\\python\\framework\\op_def_library.py:263: colocate_with (from tensorflow.python.framework.ops) is deprecated and will be removed in a future version.\n",
      "Instructions for updating:\n",
      "Colocations handled automatically by placer.\n",
      "W1 = <tf.Variable 'W1:0' shape=(28, 784) dtype=float32_ref>\n",
      "b1 = <tf.Variable 'b1:0' shape=(28, 1) dtype=float32_ref>\n",
      "W2 = <tf.Variable 'W2:0' shape=(21, 28) dtype=float32_ref>\n",
      "b2 = <tf.Variable 'b2:0' shape=(21, 1) dtype=float32_ref>\n",
      "W3 = <tf.Variable 'W3:0' shape=(14, 21) dtype=float32_ref>\n",
      "b3 = <tf.Variable 'b3:0' shape=(14, 1) dtype=float32_ref>\n",
      "W4 = <tf.Variable 'W4:0' shape=(10, 14) dtype=float32_ref>\n",
      "b4 = <tf.Variable 'b4:0' shape=(10, 1) dtype=float32_ref>\n"
     ]
    }
   ],
   "source": [
    "tf.reset_default_graph()\n",
    "sess = tf.Session()\n",
    "parameters = initialize_parameters()\n",
    "print(\"W1 = \" + str(parameters[\"W1\"]))\n",
    "print(\"b1 = \" + str(parameters[\"b1\"]))\n",
    "print(\"W2 = \" + str(parameters[\"W2\"]))\n",
    "print(\"b2 = \" + str(parameters[\"b2\"]))\n",
    "print(\"W3 = \" + str(parameters[\"W3\"]))\n",
    "print(\"b3 = \" + str(parameters[\"b3\"]))\n",
    "print(\"W4 = \" + str(parameters[\"W4\"]))\n",
    "print(\"b4 = \" + str(parameters[\"b4\"]))\n",
    "sess.close()"
   ]
  },
  {
   "cell_type": "code",
   "execution_count": 13,
   "metadata": {},
   "outputs": [],
   "source": [
    "def forward_propagation(X, parameters):\n",
    "    \"\"\"Returns linear forward propagation of the last layer.\"\"\"\n",
    "    \n",
    "    # Retrieving data from the dictionary.\n",
    "    W1 = parameters[\"W1\"]\n",
    "    b1 = parameters[\"b1\"]\n",
    "    W2 = parameters[\"W2\"]\n",
    "    b2 = parameters[\"b2\"]\n",
    "    W3 = parameters[\"W3\"]\n",
    "    b3 = parameters[\"b3\"]\n",
    "    W4 = parameters[\"W4\"]\n",
    "    b4 = parameters[\"b4\"]\n",
    "    \n",
    "    # Lin -> ReLU -> Lin -> ReLU -> Lin -> ReLU -> Lin\n",
    "    Z1 = tf.add(tf.matmul(W1, X), b1)\n",
    "    A1 = tf.nn.relu(Z1)\n",
    "    Z2 = tf.add(tf.matmul(W2, A1), b2)\n",
    "    A2 = tf.nn.relu(Z2)\n",
    "    Z3 = tf.add(tf.matmul(W3, A2), b3)\n",
    "    A3 = tf.nn.relu(Z3)\n",
    "    Z4 = tf.add(tf.matmul(W4, A3), b4)\n",
    "    \n",
    "    return Z4"
   ]
  },
  {
   "cell_type": "code",
   "execution_count": 14,
   "metadata": {},
   "outputs": [],
   "source": [
    "def find_cost(Z, Y):\n",
    "    \"\"\"Find cost function for future backpropagation.\"\"\"\n",
    "    \n",
    "    logits = tf.transpose(Z)\n",
    "    labels = tf.transpose(Y)\n",
    "    \n",
    "    cost = tf.reduce_sum(tf.nn.softmax_cross_entropy_with_logits_v2(labels=labels, logits=logits))\n",
    "    \n",
    "    return cost"
   ]
  },
  {
   "cell_type": "markdown",
   "metadata": {},
   "source": [
    "Combining all the method's into one model."
   ]
  },
  {
   "cell_type": "code",
   "execution_count": 14,
   "metadata": {},
   "outputs": [],
   "source": [
    "def model(train_X, train_Y, learning_rate=0.03, num_iterations=10_000, show_cost=False):\n",
    "    tf.reset_default_graph()\n",
    "    \n",
    "    X = tf.placeholder(tf.float32, shape=train_X.shape, name=\"X\")\n",
    "    Y = tf.placeholder(tf.float32, shape=train_Y.shape, name=\"Y\")\n",
    "    \n",
    "    parameters = initialize_parameters()\n",
    "    \n",
    "    Z4 = forward_propagation(X, parameters)\n",
    "    \n",
    "    cost = find_cost(Z4, Y)\n",
    "    costs = []\n",
    "    \n",
    "    optimizer = tf.train.AdamOptimizer().minimize(cost)\n",
    "    \n",
    "    init = tf.global_variables_initializer()\n",
    "    \n",
    "    sess = tf.Session()\n",
    "    sess.run(init)\n",
    "    \n",
    "    # Train our parameters num_iterations times.\n",
    "    for i in range(num_iterations):\n",
    "        _, c = sess.run([optimizer, cost], feed_dict={X: train_X, Y: train_Y})\n",
    "        if (i % 1000 == 0) and show_cost:\n",
    "            print(f\"Cost on {i} iteration = {c:.6f}.\")\n",
    "        if num_iterations % 5 and show_cost:\n",
    "            costs.append(c)\n",
    "    \n",
    "    # Save parameters after training.\n",
    "    params = sess.run(parameters)\n",
    "    sess.close()\n",
    "    \n",
    "    return params\n",
    "    "
   ]
  },
  {
   "cell_type": "code",
   "execution_count": 15,
   "metadata": {},
   "outputs": [
    {
     "ename": "NameError",
     "evalue": "name 'model' is not defined",
     "output_type": "error",
     "traceback": [
      "\u001b[1;31m---------------------------------------------------------------------------\u001b[0m",
      "\u001b[1;31mNameError\u001b[0m                                 Traceback (most recent call last)",
      "\u001b[1;32m<ipython-input-15-49fe288fb8a8>\u001b[0m in \u001b[0;36m<module>\u001b[1;34m()\u001b[0m\n\u001b[0;32m      1\u001b[0m \u001b[1;31m# If you want to train your parameters again -> run this cell.\u001b[0m\u001b[1;33m\u001b[0m\u001b[1;33m\u001b[0m\u001b[0m\n\u001b[0;32m      2\u001b[0m \u001b[1;33m\u001b[0m\u001b[0m\n\u001b[1;32m----> 3\u001b[1;33m \u001b[0mparameters\u001b[0m \u001b[1;33m=\u001b[0m \u001b[0mmodel\u001b[0m\u001b[1;33m(\u001b[0m\u001b[0mtrain_x\u001b[0m\u001b[1;33m.\u001b[0m\u001b[0mT\u001b[0m\u001b[1;33m,\u001b[0m \u001b[0mtrain_y\u001b[0m\u001b[1;33m.\u001b[0m\u001b[0mT\u001b[0m\u001b[1;33m,\u001b[0m \u001b[0mshow_cost\u001b[0m\u001b[1;33m=\u001b[0m\u001b[1;32mTrue\u001b[0m\u001b[1;33m)\u001b[0m\u001b[1;33m\u001b[0m\u001b[0m\n\u001b[0m\u001b[0;32m      4\u001b[0m \u001b[0msave_obj\u001b[0m\u001b[1;33m(\u001b[0m\u001b[0mparameters\u001b[0m\u001b[1;33m,\u001b[0m \u001b[1;34m\"parameters\"\u001b[0m\u001b[1;33m)\u001b[0m\u001b[1;33m\u001b[0m\u001b[0m\n",
      "\u001b[1;31mNameError\u001b[0m: name 'model' is not defined"
     ]
    }
   ],
   "source": [
    "# If you want to train your parameters again -> run this cell.\n",
    "\n",
    "parameters = model(train_x.T, train_y.T, show_cost=True)\n",
    "save_obj(parameters, \"parameters\")"
   ]
  },
  {
   "cell_type": "code",
   "execution_count": 16,
   "metadata": {},
   "outputs": [],
   "source": [
    "# Loading pretrained parameters.\n",
    "\n",
    "parameters = load_obj(\"parameters\")"
   ]
  },
  {
   "cell_type": "code",
   "execution_count": 50,
   "metadata": {},
   "outputs": [],
   "source": [
    "def accurate(X, Y, parameters):\n",
    "    \"\"\"Gives accuracy for the examples of dataset\"\"\"\n",
    "    \n",
    "    Z4 = forward_propagation(X, parameters)\n",
    "    logits = tf.nn.softmax(Z4)\n",
    "    \n",
    "    with tf.Session() as sess:\n",
    "        accuracy = sess.run(tf.reduce_mean(tf.abs(logits - Y)))\n",
    "        \n",
    "    return accuracy\n",
    "    \n",
    "def predict(test_X, parameters):\n",
    "    \"\"\"Predicts label of the image.\"\"\"\n",
    "    \n",
    "    from pandas import DataFrame\n",
    "    \n",
    "    X = tf.placeholder(tf.float32, shape=test_X.shape, name=\"X\")\n",
    "    \n",
    "    Z4 = forward_propagation(X, parameters)\n",
    "    logits = tf.nn.softmax(Z4)\n",
    "    \n",
    "    with tf.Session() as sess:\n",
    "        labels = sess.run(logits, feed_dict={X: test_X})\n",
    "    \n",
    "    new_labels = []\n",
    "    for l in labels.T:\n",
    "        max_elem = l[0]\n",
    "        max_index = 0\n",
    "        for i in range(1, 10):\n",
    "            if l[i] > max_elem:\n",
    "                max_elem = l[i]\n",
    "                max_index = i\n",
    "        new_labels.append(max_index)\n",
    "            \n",
    "    df = DataFrame()\n",
    "    df[\"ImageId\"] = range(1, test_X.shape[1]+1)\n",
    "    df[\"Label\"] = new_labels\n",
    "    return df"
   ]
  },
  {
   "cell_type": "code",
   "execution_count": 51,
   "metadata": {},
   "outputs": [
    {
     "name": "stdout",
     "output_type": "stream",
     "text": [
      "Accuracy of this model is 90.002%.\n"
     ]
    }
   ],
   "source": [
    "accuracy = accurate(train_x.T, train_y.T, parameters)\n",
    "print(f\"Accuracy of this model is {(1-accuracy)*100:.3f}%.\")"
   ]
  },
  {
   "cell_type": "markdown",
   "metadata": {},
   "source": [
    "## Predicting your test images."
   ]
  },
  {
   "cell_type": "code",
   "execution_count": 52,
   "metadata": {},
   "outputs": [
    {
     "data": {
      "text/html": [
       "<div>\n",
       "<style scoped>\n",
       "    .dataframe tbody tr th:only-of-type {\n",
       "        vertical-align: middle;\n",
       "    }\n",
       "\n",
       "    .dataframe tbody tr th {\n",
       "        vertical-align: top;\n",
       "    }\n",
       "\n",
       "    .dataframe thead th {\n",
       "        text-align: right;\n",
       "    }\n",
       "</style>\n",
       "<table border=\"1\" class=\"dataframe\">\n",
       "  <thead>\n",
       "    <tr style=\"text-align: right;\">\n",
       "      <th></th>\n",
       "      <th>ImageId</th>\n",
       "      <th>Label</th>\n",
       "    </tr>\n",
       "  </thead>\n",
       "  <tbody>\n",
       "    <tr>\n",
       "      <th>0</th>\n",
       "      <td>1</td>\n",
       "      <td>2</td>\n",
       "    </tr>\n",
       "    <tr>\n",
       "      <th>1</th>\n",
       "      <td>2</td>\n",
       "      <td>0</td>\n",
       "    </tr>\n",
       "    <tr>\n",
       "      <th>2</th>\n",
       "      <td>3</td>\n",
       "      <td>0</td>\n",
       "    </tr>\n",
       "    <tr>\n",
       "      <th>3</th>\n",
       "      <td>4</td>\n",
       "      <td>0</td>\n",
       "    </tr>\n",
       "    <tr>\n",
       "      <th>4</th>\n",
       "      <td>5</td>\n",
       "      <td>1</td>\n",
       "    </tr>\n",
       "  </tbody>\n",
       "</table>\n",
       "</div>"
      ],
      "text/plain": [
       "   ImageId  Label\n",
       "0        1      2\n",
       "1        2      0\n",
       "2        3      0\n",
       "3        4      0\n",
       "4        5      1"
      ]
     },
     "execution_count": 52,
     "metadata": {},
     "output_type": "execute_result"
    }
   ],
   "source": [
    "test_rez = predict(test_x.T, parameters)\n",
    "test_rez.head()"
   ]
  },
  {
   "cell_type": "code",
   "execution_count": 53,
   "metadata": {},
   "outputs": [],
   "source": [
    "test_rez.to_csv(r\"answer.csv\", index=None, header=True)"
   ]
  },
  {
   "cell_type": "markdown",
   "metadata": {},
   "source": [
    "## Test with your own image. (not working)"
   ]
  },
  {
   "cell_type": "code",
   "execution_count": 19,
   "metadata": {},
   "outputs": [],
   "source": [
    "import scipy\n",
    "from PIL import Image\n",
    "from scipy import ndimage\n",
    "\n",
    "img_arr = train_x_orig[index].reshape(28, 28)\n",
    "\n",
    "my_image = \"images/7.png\"\n",
    "img = Image.open(my_image).convert(\"LA\").convert('RGB')\n",
    "my_image = my_image[:-4] + \"_grey.jpg\"\n",
    "img.save(my_image)"
   ]
  },
  {
   "cell_type": "code",
   "execution_count": 20,
   "metadata": {},
   "outputs": [
    {
     "name": "stdout",
     "output_type": "stream",
     "text": [
      "(1280, 1163, 3)\n"
     ]
    },
    {
     "name": "stderr",
     "output_type": "stream",
     "text": [
      "C:\\Users\\OwO\\Anaconda3\\lib\\site-packages\\ipykernel_launcher.py:2: DeprecationWarning: `imread` is deprecated!\n",
      "`imread` is deprecated in SciPy 1.0.0.\n",
      "Use ``matplotlib.pyplot.imread`` instead.\n",
      "  \n",
      "C:\\Users\\OwO\\Anaconda3\\lib\\site-packages\\ipykernel_launcher.py:4: DeprecationWarning: `imresize` is deprecated!\n",
      "`imresize` is deprecated in SciPy 1.0.0, and will be removed in 1.2.0.\n",
      "Use ``skimage.transform.resize`` instead.\n",
      "  after removing the cwd from sys.path.\n"
     ]
    },
    {
     "ename": "ValueError",
     "evalue": "cannot reshape array of size 1728 into shape (1,576)",
     "output_type": "error",
     "traceback": [
      "\u001b[1;31m---------------------------------------------------------------------------\u001b[0m",
      "\u001b[1;31mValueError\u001b[0m                                Traceback (most recent call last)",
      "\u001b[1;32m<ipython-input-20-8486e2b440c1>\u001b[0m in \u001b[0;36m<module>\u001b[1;34m()\u001b[0m\n\u001b[0;32m      2\u001b[0m \u001b[0mimage\u001b[0m \u001b[1;33m=\u001b[0m \u001b[0mnp\u001b[0m\u001b[1;33m.\u001b[0m\u001b[0marray\u001b[0m\u001b[1;33m(\u001b[0m\u001b[0mndimage\u001b[0m\u001b[1;33m.\u001b[0m\u001b[0mimread\u001b[0m\u001b[1;33m(\u001b[0m\u001b[0mfname\u001b[0m\u001b[1;33m,\u001b[0m \u001b[0mflatten\u001b[0m\u001b[1;33m=\u001b[0m\u001b[1;32mFalse\u001b[0m\u001b[1;33m)\u001b[0m\u001b[1;33m)\u001b[0m\u001b[1;33m\u001b[0m\u001b[0m\n\u001b[0;32m      3\u001b[0m \u001b[0mprint\u001b[0m\u001b[1;33m(\u001b[0m\u001b[0mimage\u001b[0m\u001b[1;33m.\u001b[0m\u001b[0mshape\u001b[0m\u001b[1;33m)\u001b[0m\u001b[1;33m\u001b[0m\u001b[0m\n\u001b[1;32m----> 4\u001b[1;33m \u001b[0mmy_image\u001b[0m \u001b[1;33m=\u001b[0m \u001b[0mscipy\u001b[0m\u001b[1;33m.\u001b[0m\u001b[0mmisc\u001b[0m\u001b[1;33m.\u001b[0m\u001b[0mimresize\u001b[0m\u001b[1;33m(\u001b[0m\u001b[0mimage\u001b[0m\u001b[1;33m,\u001b[0m \u001b[0msize\u001b[0m\u001b[1;33m=\u001b[0m\u001b[1;33m(\u001b[0m\u001b[1;36m24\u001b[0m\u001b[1;33m,\u001b[0m\u001b[1;36m24\u001b[0m\u001b[1;33m)\u001b[0m\u001b[1;33m)\u001b[0m\u001b[1;33m.\u001b[0m\u001b[0mreshape\u001b[0m\u001b[1;33m(\u001b[0m\u001b[1;33m(\u001b[0m\u001b[1;36m1\u001b[0m\u001b[1;33m,\u001b[0m \u001b[1;36m24\u001b[0m\u001b[1;33m*\u001b[0m\u001b[1;36m24\u001b[0m\u001b[1;33m)\u001b[0m\u001b[1;33m)\u001b[0m\u001b[1;33m.\u001b[0m\u001b[0mT\u001b[0m\u001b[1;33m\u001b[0m\u001b[0m\n\u001b[0m\u001b[0;32m      5\u001b[0m \u001b[0mmy_image_prediction\u001b[0m \u001b[1;33m=\u001b[0m \u001b[0mpredict\u001b[0m\u001b[1;33m(\u001b[0m\u001b[0mmy_image\u001b[0m\u001b[1;33m,\u001b[0m \u001b[0mparameters\u001b[0m\u001b[1;33m)\u001b[0m\u001b[1;33m\u001b[0m\u001b[0m\n\u001b[0;32m      6\u001b[0m \u001b[1;33m\u001b[0m\u001b[0m\n",
      "\u001b[1;31mValueError\u001b[0m: cannot reshape array of size 1728 into shape (1,576)"
     ]
    }
   ],
   "source": [
    "fname = my_image\n",
    "image = np.array(ndimage.imread(fname, flatten=False))\n",
    "print(image.shape)\n",
    "my_image = scipy.misc.imresize(image, size=(24,24)).reshape((1, 24*24)).T\n",
    "my_image_prediction = predict(my_image, parameters)\n",
    "\n",
    "plt.imshow(image)\n",
    "print(\"Your algorithm predicts: y = \" + str(np.squeeze(my_image_prediction)))"
   ]
  },
  {
   "cell_type": "code",
   "execution_count": null,
   "metadata": {},
   "outputs": [],
   "source": []
  }
 ],
 "metadata": {
  "kernelspec": {
   "display_name": "Python 3",
   "language": "python",
   "name": "python3"
  },
  "language_info": {
   "codemirror_mode": {
    "name": "ipython",
    "version": 3
   },
   "file_extension": ".py",
   "mimetype": "text/x-python",
   "name": "python",
   "nbconvert_exporter": "python",
   "pygments_lexer": "ipython3",
   "version": "3.7.0"
  }
 },
 "nbformat": 4,
 "nbformat_minor": 2
}
